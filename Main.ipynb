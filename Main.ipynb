{
  "cells": [
    {
      "cell_type": "code",
      "execution_count": null,
      "metadata": {
        "id": "0Yl9h6pc-tuD"
      },
      "outputs": [],
      "source": [
        "from Grafo import Grafo"
      ]
    },
    {
      "cell_type": "markdown",
      "metadata": {},
      "source": [
        "Montagem de um grafo arbitrário\n"
      ]
    },
    {
      "cell_type": "code",
      "execution_count": null,
      "metadata": {},
      "outputs": [],
      "source": [
        "g = Grafo()\n",
        "lista = [0, 1, 2, 3, 4, 5, 6]\n",
        "g.inserir_lista_vertices(lista)\n",
        "\n"
      ]
    },
    {
      "cell_type": "code",
      "execution_count": 3,
      "metadata": {
        "id": "cy3v8X-xCrCx"
      },
      "outputs": [
        {
          "data": {
            "text/plain": [
              "Grafo(V=7, E=0):\n",
              "0 -> []\n",
              "  1 -> []\n",
              "  2 -> []\n",
              "  3 -> []\n",
              "  4 -> []\n",
              "  5 -> []\n",
              "  6 -> []"
            ]
          },
          "execution_count": 3,
          "metadata": {},
          "output_type": "execute_result"
        }
      ],
      "source": [
        "g"
      ]
    },
    {
      "cell_type": "code",
      "execution_count": 4,
      "metadata": {},
      "outputs": [],
      "source": [
        "g.inserir_aresta(0,1)\n",
        "g.inserir_aresta(1,3)\n",
        "g.inserir_aresta(1,2)\n",
        "g.inserir_aresta(2,3)\n",
        "g.inserir_aresta(2,4)\n",
        "g.inserir_aresta(4,6)\n",
        "g.inserir_aresta(6,5)\n"
      ]
    },
    {
      "cell_type": "code",
      "execution_count": 5,
      "metadata": {
        "id": "qgh9zyaIDvCy"
      },
      "outputs": [
        {
          "name": "stdout",
          "output_type": "stream",
          "text": [
            "arestas: 7 \n",
            "vertices: 7\n"
          ]
        }
      ],
      "source": [
        "num_arestas = g.get_numero_arestas()\n",
        "num_vertices = g.get_numero_vertices()\n",
        "\n",
        "print(f\"arestas: {num_arestas} \\nvertices: {num_vertices}\")"
      ]
    },
    {
      "cell_type": "code",
      "execution_count": 6,
      "metadata": {},
      "outputs": [
        {
          "data": {
            "text/plain": [
              "Grafo(V=7, E=7):\n",
              "0 -> [1]\n",
              "  1 -> [0, 2, 3]\n",
              "  2 -> [1, 3, 4]\n",
              "  3 -> [1, 2]\n",
              "  4 -> [2, 6]\n",
              "  5 -> [6]\n",
              "  6 -> [4, 5]"
            ]
          },
          "execution_count": 6,
          "metadata": {},
          "output_type": "execute_result"
        }
      ],
      "source": [
        "g"
      ]
    },
    {
      "cell_type": "code",
      "execution_count": 7,
      "metadata": {
        "colab": {
          "base_uri": "https://localhost:8080/"
        },
        "id": "76x_-ezlDGt5",
        "outputId": "13d241e3-c02a-4a23-df86-0af39539a256"
      },
      "outputs": [],
      "source": [
        "g.dfs()"
      ]
    },
    {
      "cell_type": "code",
      "execution_count": null,
      "metadata": {
        "colab": {
          "base_uri": "https://localhost:8080/",
          "height": 159
        },
        "id": "cbKGwLlvEHux",
        "outputId": "99c45c7d-b2fb-4be1-8e4d-74237b416607"
      },
      "outputs": [],
      "source": []
    }
  ],
  "metadata": {
    "colab": {
      "provenance": []
    },
    "kernelspec": {
      "display_name": ".venv (3.12.3)",
      "language": "python",
      "name": "python3"
    },
    "language_info": {
      "codemirror_mode": {
        "name": "ipython",
        "version": 3
      },
      "file_extension": ".py",
      "mimetype": "text/x-python",
      "name": "python",
      "nbconvert_exporter": "python",
      "pygments_lexer": "ipython3",
      "version": "3.12.3"
    }
  },
  "nbformat": 4,
  "nbformat_minor": 0
}
