{
  "cells": [
    {
      "cell_type": "code",
      "execution_count": 7,
      "metadata": {
        "id": "0Yl9h6pc-tuD"
      },
      "outputs": [],
      "source": [
        "import Grafo as g_lib"
      ]
    },
    {
      "cell_type": "markdown",
      "metadata": {},
      "source": [
        "Montagem de um grafo arbitrário\n"
      ]
    },
    {
      "cell_type": "code",
      "execution_count": 9,
      "metadata": {},
      "outputs": [],
      "source": [
        "g = g_lib.Grafo()\n",
        "g.inserir_vertice(1)\n",
        "g.inserir_vertice(2)\n",
        "g.inserir_vertice(3)\n",
        "g.inserir_aresta(1,2)\n",
        "g.inserir_aresta(1,3)\n",
        "\n"
      ]
    },
    {
      "cell_type": "code",
      "execution_count": 10,
      "metadata": {
        "id": "cy3v8X-xCrCx"
      },
      "outputs": [
        {
          "data": {
            "text/plain": [
              "[1, 2, 3] \n",
              " [(1, 2), (2, 1), (1, 3), (3, 1)]"
            ]
          },
          "execution_count": 10,
          "metadata": {},
          "output_type": "execute_result"
        }
      ],
      "source": [
        "g"
      ]
    },
    {
      "cell_type": "code",
      "execution_count": null,
      "metadata": {
        "id": "qgh9zyaIDvCy"
      },
      "outputs": [],
      "source": []
    },
    {
      "cell_type": "code",
      "execution_count": null,
      "metadata": {
        "colab": {
          "base_uri": "https://localhost:8080/"
        },
        "id": "76x_-ezlDGt5",
        "outputId": "13d241e3-c02a-4a23-df86-0af39539a256"
      },
      "outputs": [],
      "source": []
    },
    {
      "cell_type": "code",
      "execution_count": null,
      "metadata": {
        "colab": {
          "base_uri": "https://localhost:8080/",
          "height": 159
        },
        "id": "cbKGwLlvEHux",
        "outputId": "99c45c7d-b2fb-4be1-8e4d-74237b416607"
      },
      "outputs": [
        {
          "name": "stdout",
          "output_type": "stream",
          "text": [
            "5\n"
          ]
        }
      ],
      "source": []
    }
  ],
  "metadata": {
    "colab": {
      "provenance": []
    },
    "kernelspec": {
      "display_name": ".venv (3.12.3)",
      "language": "python",
      "name": "python3"
    },
    "language_info": {
      "codemirror_mode": {
        "name": "ipython",
        "version": 3
      },
      "file_extension": ".py",
      "mimetype": "text/x-python",
      "name": "python",
      "nbconvert_exporter": "python",
      "pygments_lexer": "ipython3",
      "version": "3.12.3"
    }
  },
  "nbformat": 4,
  "nbformat_minor": 0
}
