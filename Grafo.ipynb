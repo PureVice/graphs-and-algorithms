{
  "cells": [
    {
      "cell_type": "markdown",
      "metadata": {
        "id": "Jpd40Mhk-q1L"
      },
      "source": [
        "Tipo abstrato de dados Grafo\n",
        "  Operações necessárias:\n",
        "\n",
        "*   Criar grafo vazio com |V| vértices e nenhuma aresta\n",
        "*   Inserir aresta no grafo\n",
        "*   Verificar se uma aresta pertence ao grafo\n",
        "*   Obter lista de vértices adjacentes a um dado vértice\n",
        "*   Imprimir grafo\n",
        "*   Remover aresta do grafo\n",
        "*   Obter número de vértices e arestas\n",
        "*   Determinar se grafo é direcionado ou não\n",
        "\n"
      ]
    },
    {
      "cell_type": "code",
      "execution_count": null,
      "metadata": {
        "id": "0Yl9h6pc-tuD"
      },
      "outputs": [],
      "source": [
        "class Grafo:\n",
        "  def __init__(self, direcionado=False):\n",
        "    self.vertices = []\n",
        "    self.arestas = []\n",
        "    self.direcionado = direcionado\n",
        "  def __repr__(self):\n",
        "\n",
        "    return f'{self.vertices} \\n {self.arestas}'\n",
        "\n",
        "  def inserir_vertice(self, v):\n",
        "    if v not in self.vertices:\n",
        "      self.vertices.append(v)\n",
        "\n",
        "  def inserir_aresta(self, u, v):\n",
        "    if u in self.vertices and v in self.vertices:\n",
        "      self.arestas.append((u, v))\n",
        "      if not self.direcionado:\n",
        "        self.arestas.append((v, u))\n",
        "\n",
        "  def aresta_pertence(self, u, v):\n",
        "    if u in self.vertices and v in self.vertices:\n",
        "      return (u, v) in self.arestas or (v, u) in self.arestas\n",
        "    return False\n",
        "\n",
        "  def get_adjacentes(self, v):\n",
        "    adjacentes = []\n",
        "    \n",
        "    if v in self.vertices:\n",
        "      for u in self.vertices:\n",
        "        if (u, v) in self.arestas or (v,u) in self.arestas:\n",
        "          adjacentes.append((u))\n",
        "    return adjacentes\n",
        "  \n"
      ]
    },
    {
      "cell_type": "markdown",
      "metadata": {},
      "source": [
        "Montagem de um grafo arbitrário\n"
      ]
    },
    {
      "cell_type": "code",
      "execution_count": null,
      "metadata": {
        "id": "cy3v8X-xCrCx"
      },
      "outputs": [],
      "source": [
        "g = Grafo()\n",
        "g.inserir_vertice(1)\n",
        "g.inserir_vertice(2)\n",
        "g.inserir_vertice(3)\n",
        "g.inserir_aresta(1,2)\n",
        "g.inserir_aresta(1,3)\n",
        "\n"
      ]
    },
    {
      "cell_type": "code",
      "execution_count": null,
      "metadata": {
        "id": "qgh9zyaIDvCy"
      },
      "outputs": [],
      "source": []
    },
    {
      "cell_type": "code",
      "execution_count": null,
      "metadata": {
        "colab": {
          "base_uri": "https://localhost:8080/"
        },
        "id": "76x_-ezlDGt5",
        "outputId": "13d241e3-c02a-4a23-df86-0af39539a256"
      },
      "outputs": [],
      "source": []
    },
    {
      "cell_type": "code",
      "execution_count": null,
      "metadata": {
        "colab": {
          "base_uri": "https://localhost:8080/",
          "height": 159
        },
        "id": "cbKGwLlvEHux",
        "outputId": "99c45c7d-b2fb-4be1-8e4d-74237b416607"
      },
      "outputs": [
        {
          "name": "stdout",
          "output_type": "stream",
          "text": [
            "5\n"
          ]
        }
      ],
      "source": []
    }
  ],
  "metadata": {
    "colab": {
      "provenance": []
    },
    "kernelspec": {
      "display_name": ".venv (3.12.3)",
      "language": "python",
      "name": "python3"
    },
    "language_info": {
      "codemirror_mode": {
        "name": "ipython",
        "version": 3
      },
      "file_extension": ".py",
      "mimetype": "text/x-python",
      "name": "python",
      "nbconvert_exporter": "python",
      "pygments_lexer": "ipython3",
      "version": "3.12.3"
    }
  },
  "nbformat": 4,
  "nbformat_minor": 0
}
